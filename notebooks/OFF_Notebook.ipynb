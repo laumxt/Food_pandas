{
 "cells": [
  {
   "cell_type": "code",
   "execution_count": 1,
   "id": "b25f8e0b-c71f-478b-9a78-9f03347d6f95",
   "metadata": {},
   "outputs": [],
   "source": [
    "import numpy as np\n",
    "import pandas as pd"
   ]
  },
  {
   "cell_type": "code",
   "execution_count": 3,
   "id": "2ec857a9-ef15-4c67-8ee9-1a77df309c28",
   "metadata": {},
   "outputs": [],
   "source": [
    "OFF_FILEPATH = '../data/raw/en.openfoodfacts.org.products.csv.gz' "
   ]
  },
  {
   "cell_type": "code",
   "execution_count": 49,
   "id": "1fd3ae6a-bef6-44bd-8148-bcdd63896f7e",
   "metadata": {
    "tags": []
   },
   "outputs": [],
   "source": [
    "col={'product_name':'string',\n",
    "'main_category_en':'category',\n",
    "'energy-kcal_100g':'float32',\n",
    "'nutriscore_score':'float32',\n",
    "'nutriscore_grade':'category',\n",
    "'ingredients_text':'string',}\n",
    "#df_red = df[col]"
   ]
  },
  {
   "cell_type": "code",
   "execution_count": 59,
   "id": "66398898-20e3-454c-9551-08770d3dd6de",
   "metadata": {},
   "outputs": [
    {
     "name": "stdout",
     "output_type": "stream",
     "text": [
      "CPU times: total: 15.8 s\n",
      "Wall time: 15.8 s\n"
     ]
    }
   ],
   "source": [
    "%%time\n",
    "nrows=1_000_000\n",
    "chunksize = 20_000\n",
    "df = pd.DataFrame() #Empty data frame\n",
    "for chunk_df in pd.read_csv(OFF_FILEPATH,\n",
    "                         sep = '\\t',\n",
    "                         nrows = nrows,\n",
    "                         usecols = col.keys(),\n",
    "                         dtype = col,\n",
    "                         on_bad_lines = 'skip', #skip bad lines, so clever pandas\n",
    "                         chunksize = chunksize):#has become an iterator, not a dataframe\n",
    "    df = pd.concat([df, chunk_df.dropna()])"
   ]
  },
  {
   "cell_type": "code",
   "execution_count": 60,
   "id": "a762e532-e4b7-42e5-ae65-1baa89ffb55b",
   "metadata": {
    "tags": []
   },
   "outputs": [
    {
     "data": {
      "text/plain": [
       "(278221, 6)"
      ]
     },
     "execution_count": 60,
     "metadata": {},
     "output_type": "execute_result"
    }
   ],
   "source": [
    "df.shape"
   ]
  },
  {
   "cell_type": "code",
   "execution_count": 52,
   "id": "85b3504f-65d0-4953-b451-98ed85d112a8",
   "metadata": {
    "tags": []
   },
   "outputs": [
    {
     "data": {
      "text/html": [
       "<div>\n",
       "<style scoped>\n",
       "    .dataframe tbody tr th:only-of-type {\n",
       "        vertical-align: middle;\n",
       "    }\n",
       "\n",
       "    .dataframe tbody tr th {\n",
       "        vertical-align: top;\n",
       "    }\n",
       "\n",
       "    .dataframe thead th {\n",
       "        text-align: right;\n",
       "    }\n",
       "</style>\n",
       "<table border=\"1\" class=\"dataframe\">\n",
       "  <thead>\n",
       "    <tr style=\"text-align: right;\">\n",
       "      <th></th>\n",
       "      <th>product_name</th>\n",
       "      <th>ingredients_text</th>\n",
       "      <th>nutriscore_score</th>\n",
       "      <th>nutriscore_grade</th>\n",
       "      <th>main_category_en</th>\n",
       "      <th>energy-kcal_100g</th>\n",
       "    </tr>\n",
       "  </thead>\n",
       "  <tbody>\n",
       "    <tr>\n",
       "      <th>81</th>\n",
       "      <td>BAguette bressan</td>\n",
       "      <td>Bâguette Bressan Pain baguette 46,2%,' farine ...</td>\n",
       "      <td>-4.0</td>\n",
       "      <td>a</td>\n",
       "      <td>Baguettes</td>\n",
       "      <td>160.0</td>\n",
       "    </tr>\n",
       "    <tr>\n",
       "      <th>199</th>\n",
       "      <td>Pâte a tartiner</td>\n",
       "      <td>50% noisettes locales (82), 29% sucre de canne...</td>\n",
       "      <td>19.0</td>\n",
       "      <td>e</td>\n",
       "      <td>Hazelnut spreads</td>\n",
       "      <td>465.0</td>\n",
       "    </tr>\n",
       "    <tr>\n",
       "      <th>309</th>\n",
       "      <td>Cranberries</td>\n",
       "      <td>Cranberries, sugar, sunflower oil.</td>\n",
       "      <td>8.0</td>\n",
       "      <td>c</td>\n",
       "      <td>Cranberries</td>\n",
       "      <td>300.0</td>\n",
       "    </tr>\n",
       "    <tr>\n",
       "      <th>371</th>\n",
       "      <td>Salade Cesar</td>\n",
       "      <td>INGREDIENTS : LAITUE. VINAIGRETTE (HUILE DE CA...</td>\n",
       "      <td>16.0</td>\n",
       "      <td>d</td>\n",
       "      <td>Leaf vegetables</td>\n",
       "      <td>290.0</td>\n",
       "    </tr>\n",
       "    <tr>\n",
       "      <th>420</th>\n",
       "      <td>Chaussons tressés aux pommes</td>\n",
       "      <td>Pâte (farine, margarines d'huile de palme et d...</td>\n",
       "      <td>9.0</td>\n",
       "      <td>c</td>\n",
       "      <td>Apple turnovers</td>\n",
       "      <td>260.0</td>\n",
       "    </tr>\n",
       "    <tr>\n",
       "      <th>...</th>\n",
       "      <td>...</td>\n",
       "      <td>...</td>\n",
       "      <td>...</td>\n",
       "      <td>...</td>\n",
       "      <td>...</td>\n",
       "      <td>...</td>\n",
       "    </tr>\n",
       "    <tr>\n",
       "      <th>3990</th>\n",
       "      <td>Salt marsh lamb&amp; mint hand cook crips</td>\n",
       "      <td>Potatoes • Sunflower Oil • Rice Flour • Igar •...</td>\n",
       "      <td>7.0</td>\n",
       "      <td>c</td>\n",
       "      <td>Chips and fries</td>\n",
       "      <td>495.0</td>\n",
       "    </tr>\n",
       "    <tr>\n",
       "      <th>3991</th>\n",
       "      <td>Made without wheat abrico and cashew nut toasts</td>\n",
       "      <td>Farine de riz • Fécule de maïs • Amidon de tap...</td>\n",
       "      <td>9.0</td>\n",
       "      <td>c</td>\n",
       "      <td>Rusks</td>\n",
       "      <td>398.0</td>\n",
       "    </tr>\n",
       "    <tr>\n",
       "      <th>3992</th>\n",
       "      <td>Scottish All Butter Toffee &amp; Pecan Shortbread ...</td>\n",
       "      <td>wheat flour contains gluten (with wheatflour ,...</td>\n",
       "      <td>18.0</td>\n",
       "      <td>d</td>\n",
       "      <td>Shortbread</td>\n",
       "      <td>553.0</td>\n",
       "    </tr>\n",
       "    <tr>\n",
       "      <th>3994</th>\n",
       "      <td>sweet Chilli crisps</td>\n",
       "      <td>Potatoes · Sunflower Oil Sugar · Salt - Maltod...</td>\n",
       "      <td>14.0</td>\n",
       "      <td>d</td>\n",
       "      <td>Sour cream and sweet chilli crisps</td>\n",
       "      <td>517.0</td>\n",
       "    </tr>\n",
       "    <tr>\n",
       "      <th>3999</th>\n",
       "      <td>Maitre truffout, assorted pralines chocolates</td>\n",
       "      <td>Sugar, wheat starch, whole soya flour, glucose...</td>\n",
       "      <td>22.0</td>\n",
       "      <td>e</td>\n",
       "      <td>Assorted chocolates</td>\n",
       "      <td>450.0</td>\n",
       "    </tr>\n",
       "  </tbody>\n",
       "</table>\n",
       "<p>401 rows × 6 columns</p>\n",
       "</div>"
      ],
      "text/plain": [
       "                                           product_name  \\\n",
       "81                                     BAguette bressan   \n",
       "199                                     Pâte a tartiner   \n",
       "309                                         Cranberries   \n",
       "371                                        Salade Cesar   \n",
       "420                        Chaussons tressés aux pommes   \n",
       "...                                                 ...   \n",
       "3990              Salt marsh lamb& mint hand cook crips   \n",
       "3991    Made without wheat abrico and cashew nut toasts   \n",
       "3992  Scottish All Butter Toffee & Pecan Shortbread ...   \n",
       "3994                                sweet Chilli crisps   \n",
       "3999      Maitre truffout, assorted pralines chocolates   \n",
       "\n",
       "                                       ingredients_text  nutriscore_score  \\\n",
       "81    Bâguette Bressan Pain baguette 46,2%,' farine ...              -4.0   \n",
       "199   50% noisettes locales (82), 29% sucre de canne...              19.0   \n",
       "309                  Cranberries, sugar, sunflower oil.               8.0   \n",
       "371   INGREDIENTS : LAITUE. VINAIGRETTE (HUILE DE CA...              16.0   \n",
       "420   Pâte (farine, margarines d'huile de palme et d...               9.0   \n",
       "...                                                 ...               ...   \n",
       "3990  Potatoes • Sunflower Oil • Rice Flour • Igar •...               7.0   \n",
       "3991  Farine de riz • Fécule de maïs • Amidon de tap...               9.0   \n",
       "3992  wheat flour contains gluten (with wheatflour ,...              18.0   \n",
       "3994  Potatoes · Sunflower Oil Sugar · Salt - Maltod...              14.0   \n",
       "3999  Sugar, wheat starch, whole soya flour, glucose...              22.0   \n",
       "\n",
       "     nutriscore_grade                    main_category_en  energy-kcal_100g  \n",
       "81                  a                           Baguettes             160.0  \n",
       "199                 e                    Hazelnut spreads             465.0  \n",
       "309                 c                         Cranberries             300.0  \n",
       "371                 d                     Leaf vegetables             290.0  \n",
       "420                 c                     Apple turnovers             260.0  \n",
       "...               ...                                 ...               ...  \n",
       "3990                c                     Chips and fries             495.0  \n",
       "3991                c                               Rusks             398.0  \n",
       "3992                d                          Shortbread             553.0  \n",
       "3994                d  Sour cream and sweet chilli crisps             517.0  \n",
       "3999                e                 Assorted chocolates             450.0  \n",
       "\n",
       "[401 rows x 6 columns]"
      ]
     },
     "execution_count": 52,
     "metadata": {},
     "output_type": "execute_result"
    }
   ],
   "source": [
    "df"
   ]
  },
  {
   "cell_type": "code",
   "execution_count": 9,
   "id": "148afc93-9757-487a-8171-d421b8f71c5c",
   "metadata": {
    "tags": []
   },
   "outputs": [
    {
     "name": "stdout",
     "output_type": "stream",
     "text": [
      "['abbreviated_product_name', 'added-salt_100g', 'added-sugars_100g', 'additives', 'additives_en', 'additives_n', 'additives_tags', 'alcohol_100g', 'allergens', 'allergens_en', 'alpha-linolenic-acid_100g', 'arachidic-acid_100g', 'arachidonic-acid_100g', 'behenic-acid_100g', 'beta-carotene_100g', 'beta-glucan_100g', 'bicarbonate_100g', 'biotin_100g', 'brand_owner', 'brands', 'brands_tags', 'butyric-acid_100g', 'caffeine_100g', 'calcium_100g', 'capric-acid_100g', 'caproic-acid_100g', 'caprylic-acid_100g', 'carbohydrates_100g', 'carbon-footprint-from-meat-or-fish_100g', 'carbon-footprint_100g', 'carnitine_100g', 'casein_100g', 'categories', 'categories_en', 'categories_tags', 'cerotic-acid_100g', 'chloride_100g', 'chlorophyl_100g', 'cholesterol_100g', 'choline_100g', 'chromium_100g', 'cities', 'cities_tags', 'cocoa_100g', 'code', 'collagen-meat-protein-ratio_100g', 'completeness', 'copper_100g', 'countries', 'countries_en', 'countries_tags', 'created_datetime', 'created_t', 'creator', 'data_quality_errors_tags', 'dihomo-gamma-linolenic-acid_100g', 'docosahexaenoic-acid_100g', 'ecoscore_grade', 'ecoscore_score', 'eicosapentaenoic-acid_100g', 'elaidic-acid_100g', 'emb_codes', 'emb_codes_tags', 'energy-from-fat_100g', 'energy-kcal_100g', 'energy-kj_100g', 'energy_100g', 'erucic-acid_100g', 'erythritol_100g', 'fat_100g', 'fiber_100g', 'first_packaging_code_geo', 'fluoride_100g', 'folates_100g', 'food_groups', 'food_groups_en', 'food_groups_tags', 'fructose_100g', 'fruits-vegetables-nuts-dried_100g', 'fruits-vegetables-nuts-estimate-from-ingredients_100g', 'fruits-vegetables-nuts-estimate_100g', 'fruits-vegetables-nuts_100g', 'gamma-linolenic-acid_100g', 'generic_name', 'glucose_100g', 'glycemic-index_100g', 'gondoic-acid_100g', 'image_ingredients_small_url', 'image_ingredients_url', 'image_nutrition_small_url', 'image_nutrition_url', 'image_small_url', 'image_url', 'ingredients_analysis_tags', 'ingredients_tags', 'ingredients_text', 'inositol_100g', 'insoluble-fiber_100g', 'iodine_100g', 'iron_100g', 'labels', 'labels_en', 'labels_tags', 'lactose_100g', 'last_image_datetime', 'last_image_t', 'last_modified_by', 'last_modified_datetime', 'last_modified_t', 'lauric-acid_100g', 'lignoceric-acid_100g', 'linoleic-acid_100g', 'magnesium_100g', 'main_category', 'main_category_en', 'maltodextrins_100g', 'maltose_100g', 'manganese_100g', 'manufacturing_places', 'manufacturing_places_tags', 'mead-acid_100g', 'melissic-acid_100g', 'molybdenum_100g', 'monounsaturated-fat_100g', 'montanic-acid_100g', 'myristic-acid_100g', 'nervonic-acid_100g', 'nitrate_100g', 'no_nutrition_data', 'nova_group', 'nucleotides_100g', 'nutrient_levels_tags', 'nutriscore_grade', 'nutriscore_score', 'nutrition-score-fr_100g', 'nutrition-score-uk_100g', 'oleic-acid_100g', 'omega-3-fat_100g', 'omega-6-fat_100g', 'omega-9-fat_100g', 'origins', 'origins_en', 'origins_tags', 'owner', 'packaging', 'packaging_en', 'packaging_tags', 'packaging_text', 'palmitic-acid_100g', 'pantothenic-acid_100g', 'ph_100g', 'phosphorus_100g', 'phylloquinone_100g', 'pnns_groups_1', 'pnns_groups_2', 'polyols_100g', 'polyunsaturated-fat_100g', 'popularity_tags', 'potassium_100g', 'product_name', 'product_quantity', 'proteins_100g', 'purchase_places', 'quantity', 'salt_100g', 'saturated-fat_100g', 'selenium_100g', 'serum-proteins_100g', 'serving_quantity', 'serving_size', 'silica_100g', 'sodium_100g', 'soluble-fiber_100g', 'starch_100g', 'states', 'states_en', 'states_tags', 'stearic-acid_100g', 'stores', 'sucrose_100g', 'sugars_100g', 'sulphate_100g', 'taurine_100g', 'traces', 'traces_en', 'traces_tags', 'trans-fat_100g', 'unique_scans_n', 'unsaturated-fat_100g', 'url', 'vitamin-a_100g', 'vitamin-b12_100g', 'vitamin-b1_100g', 'vitamin-b2_100g', 'vitamin-b6_100g', 'vitamin-b9_100g', 'vitamin-c_100g', 'vitamin-d_100g', 'vitamin-e_100g', 'vitamin-k_100g', 'vitamin-pp_100g', 'water-hardness_100g', 'zinc_100g']\n"
     ]
    }
   ],
   "source": [
    "a=[]\n",
    "for colum in df.columns: a.append(colum)\n",
    "print(sorted(a))"
   ]
  },
  {
   "cell_type": "code",
   "execution_count": 61,
   "id": "a2b1a611-cabc-455f-8107-a878ecfe996c",
   "metadata": {
    "tags": []
   },
   "outputs": [],
   "source": [
    "#Create a program!"
   ]
  },
  {
   "cell_type": "code",
   "execution_count": 67,
   "id": "75b29adf-dd4a-4ccf-b945-e64ba835f809",
   "metadata": {
    "tags": []
   },
   "outputs": [
    {
     "data": {
      "text/html": [
       "<div>\n",
       "<style scoped>\n",
       "    .dataframe tbody tr th:only-of-type {\n",
       "        vertical-align: middle;\n",
       "    }\n",
       "\n",
       "    .dataframe tbody tr th {\n",
       "        vertical-align: top;\n",
       "    }\n",
       "\n",
       "    .dataframe thead th {\n",
       "        text-align: right;\n",
       "    }\n",
       "</style>\n",
       "<table border=\"1\" class=\"dataframe\">\n",
       "  <thead>\n",
       "    <tr style=\"text-align: right;\">\n",
       "      <th></th>\n",
       "      <th>product_name</th>\n",
       "      <th>ingredients_text</th>\n",
       "      <th>nutriscore_score</th>\n",
       "      <th>nutriscore_grade</th>\n",
       "      <th>main_category_en</th>\n",
       "      <th>energy-kcal_100g</th>\n",
       "    </tr>\n",
       "  </thead>\n",
       "  <tbody>\n",
       "    <tr>\n",
       "      <th>64658</th>\n",
       "      <td>Organic coconut oil</td>\n",
       "      <td>Expeller pressed refined organic coconut oil.</td>\n",
       "      <td>20.0</td>\n",
       "      <td>e</td>\n",
       "      <td>Coconut oils</td>\n",
       "      <td>6120.0</td>\n",
       "    </tr>\n",
       "  </tbody>\n",
       "</table>\n",
       "</div>"
      ],
      "text/plain": [
       "              product_name                               ingredients_text  \\\n",
       "64658  Organic coconut oil  Expeller pressed refined organic coconut oil.   \n",
       "\n",
       "       nutriscore_score nutriscore_grade main_category_en  energy-kcal_100g  \n",
       "64658              20.0                e     Coconut oils            6120.0  "
      ]
     },
     "execution_count": 67,
     "metadata": {},
     "output_type": "execute_result"
    }
   ],
   "source": [
    "df.loc[df['energy-kcal_100g']== df['energy-kcal_100g'].max()]"
   ]
  },
  {
   "cell_type": "code",
   "execution_count": null,
   "id": "e972fdc0-0726-4c57-b6e5-c09720483253",
   "metadata": {},
   "outputs": [],
   "source": []
  },
  {
   "cell_type": "code",
   "execution_count": null,
   "id": "4560b47a-39c4-4f72-96dd-9945ffa18267",
   "metadata": {},
   "outputs": [],
   "source": []
  },
  {
   "cell_type": "code",
   "execution_count": null,
   "id": "5186aa14-da4b-44ed-8fa4-0a91b63a65f8",
   "metadata": {},
   "outputs": [],
   "source": [
    "\n"
   ]
  }
 ],
 "metadata": {
  "kernelspec": {
   "display_name": "Python 3 (ipykernel)",
   "language": "python",
   "name": "python3"
  },
  "language_info": {
   "codemirror_mode": {
    "name": "ipython",
    "version": 3
   },
   "file_extension": ".py",
   "mimetype": "text/x-python",
   "name": "python",
   "nbconvert_exporter": "python",
   "pygments_lexer": "ipython3",
   "version": "3.11.5"
  }
 },
 "nbformat": 4,
 "nbformat_minor": 5
}
